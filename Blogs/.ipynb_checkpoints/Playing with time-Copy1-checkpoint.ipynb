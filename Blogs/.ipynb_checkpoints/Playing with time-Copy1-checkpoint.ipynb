{
 "cells": [
  {
   "cell_type": "code",
   "execution_count": 17,
   "id": "fdc57d8c",
   "metadata": {},
   "outputs": [],
   "source": [
    "import networkx as nx, math, sys, numpy as np, matplotlib.pyplot as plt, time, csv, os\n",
    "from tqdm import tqdm\n",
    "from collections import defaultdict"
   ]
  },
  {
   "cell_type": "code",
   "execution_count": 18,
   "id": "b2b69fb6",
   "metadata": {},
   "outputs": [],
   "source": [
    "phi = 0.75\n",
    "gRed = 0.15\n",
    "gBlue = 0.15"
   ]
  },
  {
   "cell_type": "code",
   "execution_count": 19,
   "id": "36d82bb9",
   "metadata": {},
   "outputs": [],
   "source": [
    "def read_community(filename):\n",
    "    with open(filename, \"r\") as file:\n",
    "        lines = file.readlines()\n",
    "\n",
    "    # Extract the number of communities\n",
    "    num_communities = int(lines[0].strip())\n",
    "\n",
    "    # Process the data for each node\n",
    "    for line in lines[1:]:\n",
    "        node, community = map(int, line.strip().split())\n",
    "        if community == 1:\n",
    "            red.append(node)\n",
    "        elif community == 0:\n",
    "            blue.append(node)"
   ]
  },
  {
   "cell_type": "code",
   "execution_count": 20,
   "id": "4fe5dfcd",
   "metadata": {},
   "outputs": [],
   "source": [
    "def makeGraph(filename):\n",
    "    with open(filename, \"r\") as file:\n",
    "        num_nodes = int(file.readline().strip())  # Extract the number of nodes\n",
    "\n",
    "        for line in file:\n",
    "            line = line.strip()\n",
    "            line = line.split(\"\\t\")\n",
    "            source = int(line[0])\n",
    "            target = int(line[1])\n",
    "            G.add_edge(source, target)\n",
    "        for node in G.nodes:\n",
    "            if G.has_edge(node, node):\n",
    "                G.remove_edge(node, node)\n",
    "    #             print(node)"
   ]
  },
  {
   "cell_type": "code",
   "execution_count": 21,
   "id": "f207bd22",
   "metadata": {},
   "outputs": [],
   "source": [
    "def outRB():\n",
    "    for node in G.nodes:\n",
    "        G.nodes[node]['outR'] = 0\n",
    "        G.nodes[node]['outB'] = 0\n",
    "        G.nodes[node]['outRList'] = []\n",
    "        G.nodes[node]['outBList'] = []\n",
    "        for n in G.neighbors(node):\n",
    "            if n in red:\n",
    "                G.nodes[node]['outR'] += 1\n",
    "                G.nodes[node]['outRList'].append(n)\n",
    "            elif n in blue:\n",
    "                G.nodes[node]['outB'] += 1\n",
    "                G.nodes[node]['outBList'].append(n)"
   ]
  },
  {
   "cell_type": "code",
   "execution_count": 22,
   "id": "7901e049",
   "metadata": {},
   "outputs": [],
   "source": [
    "def initlR():\n",
    "    tmplR = []\n",
    "    for node in G.nodes:\n",
    "        if G.out_degree(node) != 0 and G.nodes[node]['outR'] / G.out_degree(node) < phi and G.nodes[node]['outR'] != 0:\n",
    "            tmplR.append(node)\n",
    "    return tmplR"
   ]
  },
  {
   "cell_type": "code",
   "execution_count": 23,
   "id": "70d1ac23",
   "metadata": {},
   "outputs": [],
   "source": [
    "def computePPRs():\n",
    "    qDict = {}\n",
    "    pRlist = np.inner(Q, color)\n",
    "    for node in G.nodes:\n",
    "        G.nodes[node]['pR'] = pRlist[node]\n",
    "        tmpDict = {}\n",
    "        for n in G.nodes:\n",
    "            tmpDict[n] = Q[node][n]\n",
    "        qDict[node] = tmpDict\n",
    "    return qDict"
   ]
  },
  {
   "cell_type": "code",
   "execution_count": 24,
   "id": "15ac4af1",
   "metadata": {},
   "outputs": [],
   "source": [
    "def cmpFormula():\n",
    "    tmpGains = {}\n",
    "    tmpLosses = {}\n",
    "    ppr = computePPRs()\n",
    "    \n",
    "    for node in lR:\n",
    "        g = gamma[node][node]\n",
    "        sPkR = 0\n",
    "        sPkB = 0\n",
    "        sPkxR = 0\n",
    "        sPkxB = 0\n",
    "        sLoss = 0\n",
    "        fTerm = g/((1-g)*(phi - (G.nodes[node]['outR'] / G.out_degree(node))))\n",
    "    \n",
    "        dR = 1/G.nodes[node]['outR']\n",
    "        dB = 1/G.nodes[node]['outB']\n",
    "\n",
    "        for n in G.nodes[node]['outRList']:\n",
    "            sPkR += G.nodes[n]['pR']\n",
    "            sPkxR += Q[n][node]\n",
    "        for n in G.nodes[node]['outBList']:\n",
    "            sPkB += G.nodes[n]['pR']\n",
    "            sPkxB += Q[n][node]\n",
    "        for n in G.nodes:\n",
    "            sLoss += Q[n][node] ** 2\n",
    "\n",
    "        numerator = dR*sPkR - dB*sPkB\n",
    "        denominator = fTerm-(dR*sPkxR - dB*sPkxB)\n",
    "        L = numerator/denominator\n",
    "        tmpGains[node] = pr[node]*L\n",
    "        tmpLosses[node] = (4*(L**2)*sLoss)/len(G.nodes)\n",
    "        \n",
    "    return tmpGains, tmpLosses"
   ]
  },
  {
   "cell_type": "code",
   "execution_count": 25,
   "id": "be5b4251",
   "metadata": {},
   "outputs": [],
   "source": [
    "graphFile = '/out_graph.txt'\n",
    "G = nx.DiGraph()\n",
    "red = []\n",
    "blue = []\n",
    "read_community(sys.path[0] + '/out_community.txt')\n",
    "nodesList = sorted(red+blue)\n",
    "G.add_nodes_from(nodesList)\n",
    "makeGraph(sys.path[0] + graphFile)\n",
    "# G = nx.convert_node_labels_to_integers(G)\n",
    "\n",
    "outRB()\n",
    "lR = initlR()"
   ]
  },
  {
   "cell_type": "code",
   "execution_count": 26,
   "id": "d909e99a",
   "metadata": {},
   "outputs": [
    {
     "name": "stderr",
     "output_type": "stream",
     "text": [
      "/var/folders/qf/yh559xpx4dv12z0mkyw5cvr80000gn/T/ipykernel_7885/2594009234.py:4: RuntimeWarning: invalid value encountered in divide\n",
      "  P = (P / row_sums[:, np.newaxis])\n"
     ]
    }
   ],
   "source": [
    "P = nx.adjacency_matrix(G)\n",
    "P = P.toarray()\n",
    "row_sums = P.sum(axis=1)\n",
    "P = (P / row_sums[:, np.newaxis])\n",
    "\n",
    "where_are_NaNs = np.isnan(P)\n",
    "P[where_are_NaNs] = 0\n",
    "\n",
    "u = np.empty(len(P)) \n",
    "u.fill(1/len(P))\n",
    "u = np.transpose(u)\n",
    "\n",
    "# Handle sink nodes\n",
    "d = np.zeros(len(P))\n",
    "\n",
    "for node in G.nodes:\n",
    "    if G.out_degree(node) == 0:\n",
    "        d[node] = 1\n",
    "P = P + np.outer(d, u)\n",
    "\n",
    "I = np.identity(len(P))\n",
    "D = np.zeros(shape=(len(P), len(P)))\n",
    "\n",
    "# Random jump vector\n",
    "v = np.empty(len(P)) \n",
    "v.fill(1/len(G.nodes))\n",
    "\n",
    "# Vector with 1 over red nodes\n",
    "color = np.zeros(len(P))\n",
    "for node in red:\n",
    "    color[node] = 1\n",
    "    \n",
    "gamma = np.zeros(len(P)) \n",
    "for node in G.nodes:\n",
    "    if node in red:\n",
    "        gamma[node] = gRed\n",
    "    else:\n",
    "        gamma[node] = gBlue\n",
    "gamma = np.diag(gamma)\n",
    "\n",
    "# intrinsic opinions\n",
    "s = np.zeros(len(P))\n",
    "for node in G.nodes:\n",
    "    if node in red:\n",
    "        s[node] = 1\n",
    "    else:\n",
    "        s[node] = -1"
   ]
  },
  {
   "cell_type": "code",
   "execution_count": 27,
   "id": "5c68a349",
   "metadata": {},
   "outputs": [],
   "source": [
    "Q = (np.linalg.inv(I-((I-gamma).dot(P)))).dot(gamma)\n",
    "pr = v.dot(Q)"
   ]
  },
  {
   "cell_type": "code",
   "execution_count": 28,
   "id": "3eb54237",
   "metadata": {},
   "outputs": [
    {
     "name": "stdout",
     "output_type": "stream",
     "text": [
      "--- 0.5576431751251221 seconds ---\n"
     ]
    }
   ],
   "source": [
    "start_time = time.time()\n",
    "gains, losses = cmpFormula()\n",
    "print(\"--- %s seconds ---\" % (time.time() - start_time))"
   ]
  }
 ],
 "metadata": {
  "kernelspec": {
   "display_name": "Python 3 (ipykernel)",
   "language": "python",
   "name": "python3"
  },
  "language_info": {
   "codemirror_mode": {
    "name": "ipython",
    "version": 3
   },
   "file_extension": ".py",
   "mimetype": "text/x-python",
   "name": "python",
   "nbconvert_exporter": "python",
   "pygments_lexer": "ipython3",
   "version": "3.9.12"
  }
 },
 "nbformat": 4,
 "nbformat_minor": 5
}
